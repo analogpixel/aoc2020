{
 "cells": [
  {
   "cell_type": "code",
   "execution_count": 32,
   "metadata": {
    "scrolled": true
   },
   "outputs": [],
   "source": [
    "input_file=\"data/day6.txt\"\n",
    "\n",
    "l1 = [ x.strip() for x in open(input_file).readlines()]\n",
    "\n",
    "\n"
   ]
  },
  {
   "cell_type": "markdown",
   "metadata": {},
   "source": [
    "## Part 1"
   ]
  },
  {
   "cell_type": "code",
   "execution_count": null,
   "metadata": {},
   "outputs": [],
   "source": [
    "z = \"\"\n",
    "output=[]\n",
    "for l in l1:\n",
    "    if l != '':\n",
    "        z += l\n",
    "    else:\n",
    "        output.append( \"\".join(set(list(z)) ))\n",
    "        z = \"\"\n",
    "output.append(z)\n",
    "\n",
    "sum([len(x) for x in output])"
   ]
  },
  {
   "cell_type": "markdown",
   "metadata": {},
   "source": [
    "## Part 2"
   ]
  },
  {
   "cell_type": "code",
   "execution_count": 35,
   "metadata": {},
   "outputs": [
    {
     "name": "stdout",
     "output_type": "stream",
     "text": [
      "3493\n"
     ]
    }
   ],
   "source": [
    "import functools \n",
    "\n",
    "total = 0\n",
    "z = {}\n",
    "set_list = []\n",
    "for l in l1:\n",
    "    if l != '':\n",
    "        set_list.append( set(list(l)) )\n",
    "    else:\n",
    "        # print(set_list)\n",
    "        all_yes = functools.reduce(lambda x,y: x & y, set_list)\n",
    "        set_list = []\n",
    "        total += len(all_yes)\n",
    "\n",
    "#all_yes = functools.reduce(lambda x,y: x & y, set_list)\n",
    "#total += len(all_yes)\n",
    "print(total)\n"
   ]
  },
  {
   "cell_type": "code",
   "execution_count": 24,
   "metadata": {},
   "outputs": [
    {
     "data": {
      "text/plain": [
       "{1, 2, 3, 4}"
      ]
     },
     "execution_count": 24,
     "metadata": {},
     "output_type": "execute_result"
    }
   ],
   "source": [
    "a = {1,2,3}\n",
    "b = {2,3}\n",
    "a.add(4)\n",
    "a\n"
   ]
  },
  {
   "cell_type": "code",
   "execution_count": null,
   "metadata": {},
   "outputs": [],
   "source": []
  }
 ],
 "metadata": {
  "kernelspec": {
   "display_name": "Python 3",
   "language": "python",
   "name": "python3"
  },
  "language_info": {
   "codemirror_mode": {
    "name": "ipython",
    "version": 3
   },
   "file_extension": ".py",
   "mimetype": "text/x-python",
   "name": "python",
   "nbconvert_exporter": "python",
   "pygments_lexer": "ipython3",
   "version": "3.8.3"
  }
 },
 "nbformat": 4,
 "nbformat_minor": 4
}
