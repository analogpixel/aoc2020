{
 "cells": [
  {
   "cell_type": "markdown",
   "metadata": {},
   "source": [
    "## Day 8\n",
    "\n",
    "https://adventofcode.com/2020/day/8"
   ]
  },
  {
   "cell_type": "code",
   "execution_count": 4,
   "metadata": {},
   "outputs": [
    {
     "data": {
      "text/plain": [
       "{'CodeCell': {'cm_config': {'autoCloseBrackets': False}}}"
      ]
     },
     "execution_count": 4,
     "metadata": {},
     "output_type": "execute_result"
    }
   ],
   "source": [
    "# disable auto quote and stuff\n",
    "\n",
    "from notebook.services.config import ConfigManager\n",
    "c = ConfigManager()\n",
    "c.update('notebook', {\"CodeCell\": {\"cm_config\": {\"autoCloseBrackets\": False}}})\n",
    "\n"
   ]
  },
  {
   "cell_type": "code",
   "execution_count": 15,
   "metadata": {},
   "outputs": [],
   "source": [
    "input_file=\"data/day8_sample_1.txt\"\n",
    "input_file=\"data/day8.txt\"\n",
    "l1 = [ x.strip() for x in open(input_file).readlines()]\n",
    "\n"
   ]
  },
  {
   "cell_type": "markdown",
   "metadata": {},
   "source": [
    "## Part 1"
   ]
  },
  {
   "cell_type": "code",
   "execution_count": 18,
   "metadata": {},
   "outputs": [
    {
     "name": "stdout",
     "output_type": "stream",
     "text": [
      "1420\n"
     ]
    }
   ],
   "source": [
    "accumulator = 0\n",
    "ip = 0\n",
    "run = []\n",
    "\n",
    "while True:\n",
    "    [cmd,value] = l1[ip].split(' ')\n",
    "    # print(ip, l1[ip])\n",
    "    if ip in run:\n",
    "        print(accumulator)\n",
    "        break\n",
    "    else:\n",
    "        run.append(ip)\n",
    "    if cmd == 'acc':\n",
    "        accumulator += int(value)\n",
    "        ip +=1\n",
    "    elif cmd == 'jmp':\n",
    "        ip += int(value)\n",
    "    elif cmd == 'nop':\n",
    "        ip += 1\n",
    "    "
   ]
  },
  {
   "cell_type": "markdown",
   "metadata": {},
   "source": [
    "## Part 2"
   ]
  },
  {
   "cell_type": "code",
   "execution_count": 25,
   "metadata": {},
   "outputs": [
    {
     "name": "stdout",
     "output_type": "stream",
     "text": [
      "break free\n",
      "1245\n",
      "and done\n"
     ]
    }
   ],
   "source": [
    "# input_file=\"data/day8_sample_1.txt\"\n",
    "input_file=\"data/day8.txt\"\n",
    "finish=False\n",
    "\n",
    "for inst_num in range(0, len(l1)):\n",
    "    l1 = [ x.strip() for x in open(input_file).readlines()]\n",
    "    \n",
    "    if l1[inst_num].find('nop') != -1:\n",
    "        l1[inst_num] = l1[inst_num].replace('nop','jmp')\n",
    "    elif l1[inst_num].find('jmp') != -1:\n",
    "        l1[inst_num] = l1[inst_num].replace('jmp','nop')\n",
    "        \n",
    "    accumulator = 0\n",
    "    ip = 0\n",
    "    run = []\n",
    "\n",
    "    while True:\n",
    "        \n",
    "        if ip >= len(l1):\n",
    "            print(\"break free\")\n",
    "            finish=True\n",
    "            print(accumulator)\n",
    "            break\n",
    "            \n",
    "        [cmd,value] = l1[ip].split(' ')\n",
    "\n",
    "        # print(ip, l1[ip])\n",
    "        \n",
    "        if ip in run:\n",
    "            #print(accumulator)\n",
    "            break\n",
    "        else:\n",
    "            run.append(ip)\n",
    "        if cmd == 'acc':\n",
    "            accumulator += int(value)\n",
    "            ip +=1\n",
    "        elif cmd == 'jmp':\n",
    "            ip += int(value)\n",
    "        elif cmd == 'nop':\n",
    "            ip += 1\n",
    "            \n",
    "    if finish:\n",
    "        print(\"and done\")\n",
    "        break"
   ]
  },
  {
   "cell_type": "code",
   "execution_count": null,
   "metadata": {},
   "outputs": [],
   "source": []
  }
 ],
 "metadata": {
  "kernelspec": {
   "display_name": "Python 3",
   "language": "python",
   "name": "python3"
  },
  "language_info": {
   "codemirror_mode": {
    "name": "ipython",
    "version": 3
   },
   "file_extension": ".py",
   "mimetype": "text/x-python",
   "name": "python",
   "nbconvert_exporter": "python",
   "pygments_lexer": "ipython3",
   "version": "3.8.3"
  }
 },
 "nbformat": 4,
 "nbformat_minor": 4
}
