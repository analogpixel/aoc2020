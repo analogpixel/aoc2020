{
 "cells": [
  {
   "cell_type": "markdown",
   "metadata": {},
   "source": [
    "## Part 1"
   ]
  },
  {
   "cell_type": "code",
   "execution_count": 43,
   "metadata": {},
   "outputs": [
    {
     "name": "stdout",
     "output_type": "stream",
     "text": [
      "9879607673316\n"
     ]
    }
   ],
   "source": [
    "import re\n",
    "\n",
    "sample1 = \"\"\"mask = XXXXXXXXXXXXXXXXXXXXXXXXXXXXX1XXXX0X\n",
    "mem[8] = 11\n",
    "mem[7] = 101\n",
    "mem[8] = 0\"\"\"\n",
    "\n",
    "\n",
    "input_file=\"data/day14.txt\"\n",
    "l1 = [ x.strip() for x in open(input_file).readlines()]\n",
    "\n",
    "\n",
    "#puz_input = [ x.strip() for x in sample1.split(\"\\n\")]\n",
    "puz_input = l1\n",
    "\n",
    "def create_mask(mask):\n",
    "    mask_1 = int(mask.replace('X','0'),2)\n",
    "    mask_0 = int(mask.replace('X','1'),2)\n",
    "    return [mask_0, mask_1]\n",
    "\n",
    "def apply_mask(masks, num):\n",
    "    return num & masks[0] | masks[1]\n",
    "\n",
    "masks = []\n",
    "memory = {}\n",
    "\n",
    "for line in puz_input:\n",
    "    if line.find('mask') != -1:\n",
    "        masks = create_mask( line.split(\"=\")[1].strip() )\n",
    "    if line.find('mem') != -1:\n",
    "        m = re.match('mem\\[(\\d+)\\] = (\\d+)$' , line)\n",
    "        mem = int(m[1])\n",
    "        num = int(m[2])\n",
    "        act_num = apply_mask(masks, num)\n",
    "        # print(mem, num, act_num)\n",
    "        memory[mem] = act_num\n",
    "\n",
    "total = 0\n",
    "for k in memory.keys():\n",
    "    total += memory[k]\n",
    "\n",
    "print(total)"
   ]
  },
  {
   "cell_type": "code",
   "execution_count": 3,
   "metadata": {},
   "outputs": [
    {
     "name": "stdout",
     "output_type": "stream",
     "text": [
      "hello\n"
     ]
    }
   ],
   "source": [
    "print(\"hello\")"
   ]
  },
  {
   "cell_type": "code",
   "execution_count": 33,
   "metadata": {},
   "outputs": [
    {
     "name": "stdout",
     "output_type": "stream",
     "text": [
      "None\n"
     ]
    }
   ],
   "source": [
    "import re\n",
    "a = \"mem[123] = b\"\n",
    "re.match('mem\\[(\\d+)\\] = b', a)[1]\n",
    "print ( re.match('mem\\[(d+)\\] = (\\d+)$', a) )"
   ]
  },
  {
   "cell_type": "markdown",
   "metadata": {},
   "source": [
    "## Part 2"
   ]
  },
  {
   "cell_type": "code",
   "execution_count": null,
   "metadata": {},
   "outputs": [],
   "source": [
    "import re\n",
    "\n",
    "sample2 = \"\"\"mask = 000000000000000000000000000000X1001X\n",
    "mem[42] = 100\n",
    "mask = 00000000000000000000000000000000X0XX\n",
    "mem[26] = 1\"\"\"\n",
    "\n",
    "sample3 = \"\"\"mask = X000111001110X100000X0011011XX100011\n",
    "mem[15450] = 4114776\n",
    "mem[34487] = 8375\n",
    "mem[41817] = 18121\n",
    "mem[6307] = 60515\n",
    "mem[40743] = 517650454\"\"\"\n",
    "\n",
    "input_file=\"data/day14.txt\"\n",
    "l1 = [ x.strip() for x in open(input_file).readlines()]\n",
    "\n",
    "\n",
    "#puz_input = [ x.strip() for x in sample2.split(\"\\n\")]\n",
    "puz_input = l1\n",
    "\n",
    "def sreplace(string, position, c):\n",
    "    return string[:position] + c + string[position+1:]\n",
    "\n",
    "def make_lists(list_in):\n",
    "    new_list = []\n",
    "    for l in list_in:\n",
    "        next_x = l.find('X')\n",
    "        if next_x == -1:\n",
    "            return list_in\n",
    "        else:\n",
    "            new_list += make_lists([ sreplace(l, next_x, \"1\") ]) \n",
    "            new_list += make_lists([ sreplace(l, next_x, \"0\") ])           \n",
    "            return new_list\n",
    "                          \n",
    "                          \n",
    "def apply_mask(addr, mask):\n",
    "    output = \"\"\n",
    "    for idx,val in enumerate(list(mask)):\n",
    "        if val == \"0\":\n",
    "            output += addr[idx]\n",
    "        if val == \"1\":\n",
    "            output += \"1\"\n",
    "        if val == \"X\":\n",
    "            output += \"X\"\n",
    "    return output\n",
    "\n",
    "\n",
    "memory = {}\n",
    "for line in puz_input:\n",
    "    if line.find('mask') != -1:\n",
    "        mask = line.split(\"=\")[1].strip() \n",
    "        #print(mask)\n",
    "    if line.find('mem') != -1:\n",
    "        m = re.match('mem\\[(\\d+)\\] = (\\d+)$' , line)\n",
    "        mem = int(m[1])\n",
    "        mem = (\"\".join( [\"0\"] * 36 ) + bin(mem)[2:])[-36:] \n",
    "        num = int(m[2])\n",
    "        for l in make_lists( [apply_mask(mem, mask)]  ):\n",
    "            memory[ int(l,2) ] = num\n",
    "\n",
    "            \n",
    "total = 0\n",
    "for k in memory.keys():\n",
    "    total += memory[k]\n",
    "\n",
    "print(total)\n",
    "\n"
   ]
  },
  {
   "cell_type": "code",
   "execution_count": null,
   "metadata": {},
   "outputs": [],
   "source": []
  }
 ],
 "metadata": {
  "kernelspec": {
   "display_name": "Python 3",
   "language": "python",
   "name": "python3"
  },
  "language_info": {
   "codemirror_mode": {
    "name": "ipython",
    "version": 3
   },
   "file_extension": ".py",
   "mimetype": "text/x-python",
   "name": "python",
   "nbconvert_exporter": "python",
   "pygments_lexer": "ipython3",
   "version": "3.8.3"
  }
 },
 "nbformat": 4,
 "nbformat_minor": 4
}
