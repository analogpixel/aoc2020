{
 "cells": [
  {
   "cell_type": "markdown",
   "metadata": {},
   "source": [
    "# Day 19\n",
    "\n",
    "\n",
    "Part 1 and Part 2\n"
   ]
  },
  {
   "cell_type": "code",
   "execution_count": 83,
   "metadata": {},
   "outputs": [
    {
     "name": "stdout",
     "output_type": "stream",
     "text": [
      "372 71\n"
     ]
    }
   ],
   "source": [
    "from lark import Lark, Transformer, v_args\n",
    "from num2words import num2words\n",
    "import re\n",
    "\n",
    "\n",
    "s_input_1 = \"\"\"0: 4 1 5\n",
    "1: 2 3 | 3 2\n",
    "2: 4 4 | 5 5\n",
    "3: 4 5 | 5 4\n",
    "4: \"a\"\n",
    "5: \"b\"\n",
    "\"\"\"\n",
    "\n",
    "s_check_input_1 = \"\"\"ababbb\n",
    "bababa\n",
    "abbbab\n",
    "aaabbb\n",
    "aaaabbb\"\"\"\n",
    "\n",
    "puz_input = s_input_1\n",
    "puz_check = s_check_input_1.strip().split(\"\\n\")\n",
    "\n",
    "\n",
    "input_file=\"data/day19_2.txt\"\n",
    "l1 = open(input_file).read()\n",
    "puz_input = l1\n",
    "\n",
    "input_file=\"data/day19_check.txt\"\n",
    "puz_check = [ x.strip() for x in open(input_file).readlines()]\n",
    "\n",
    "\n",
    "grammar=\"%ignore WS\\n\"\n",
    "for idx,line in enumerate(puz_input.strip().split(\"\\n\")):\n",
    "    [_id,p] = line.split(\":\")\n",
    "    word = num2words(int(_id)).replace(\" \",\"_\").replace(\"-\",\"_\")\n",
    "    if word == \"zero\":\n",
    "        word = \"start\"\n",
    "    grammar += word + \": \"\n",
    "    for k in p.split(\" \"):\n",
    "        if re.match(\"\\d+\", k):\n",
    "            word = num2words(int(k)).replace(\" \",\"_\").replace(\"-\",\"_\")\n",
    "            if word == \"zero\":\n",
    "                word = \"start\"\n",
    "            grammar += \"{} \".format(word)\n",
    "        else:\n",
    "            grammar += \"{}\".format(k)\n",
    "    grammar += \"\\n\"\n",
    "grammar += \"\\n%import common.WS\"\n",
    "\n",
    "# print(grammar)\n",
    "s_parser = Lark(grammar, parser='earley')\n",
    "\n",
    "\n",
    "valid=0\n",
    "invalid=0\n",
    "for l in puz_check:\n",
    "    try:\n",
    "        s_parser.parse(l)\n",
    "        valid +=1\n",
    "    except:\n",
    "        invalid +=1\n",
    "    \n",
    "print(valid,invalid)\n",
    "    \n",
    "    "
   ]
  },
  {
   "cell_type": "code",
   "execution_count": null,
   "metadata": {},
   "outputs": [],
   "source": []
  }
 ],
 "metadata": {
  "kernelspec": {
   "display_name": "Python 3",
   "language": "python",
   "name": "python3"
  },
  "language_info": {
   "codemirror_mode": {
    "name": "ipython",
    "version": 3
   },
   "file_extension": ".py",
   "mimetype": "text/x-python",
   "name": "python",
   "nbconvert_exporter": "python",
   "pygments_lexer": "ipython3",
   "version": "3.8.3"
  }
 },
 "nbformat": 4,
 "nbformat_minor": 4
}
