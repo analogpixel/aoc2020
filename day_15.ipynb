{
 "cells": [
  {
   "cell_type": "markdown",
   "metadata": {},
   "source": [
    "# Day 15\n",
    "\n",
    "https://adventofcode.com/2020/day/15\n",
    "\n",
    "\n",
    "## Part 1\n"
   ]
  },
  {
   "cell_type": "code",
   "execution_count": 19,
   "metadata": {},
   "outputs": [
    {
     "name": "stdout",
     "output_type": "stream",
     "text": [
      "3718541\n"
     ]
    }
   ],
   "source": [
    "s_input_1 = [3,1,2]\n",
    "input_1 = [2,0,6,12,1,3]\n",
    "\n",
    "puz_input = input_1\n",
    "\n",
    "## load the numbers and an array of the turns we saw them in.\n",
    "data = {}\n",
    "for idx,val in enumerate(puz_input):\n",
    "    data[val] = [idx + 1]\n",
    "\n",
    "last_num = puz_input[-1]\n",
    "turn = len(puz_input) + 1\n",
    "new_num = 0\n",
    "while turn <= 30000000:  # part 2\n",
    "#while turn <= 2020:  # part 1\n",
    "    \n",
    "    ## we have seen this before so calculate the difference\n",
    "    if last_num in data and len(data[last_num]) > 1:\n",
    "        new_num = data[last_num][-1] - data[last_num][-2]\n",
    "    ## We haven't seen this before so 0\n",
    "    else:\n",
    "        new_num = 0\n",
    "        \n",
    "    if new_num in data:\n",
    "        data[new_num].append(turn)\n",
    "    else:\n",
    "        data[new_num] = [turn]\n",
    "        \n",
    "    last_num= new_num\n",
    "    turn +=1\n",
    "    \n",
    "print(last_num)\n"
   ]
  }
 ],
 "metadata": {
  "kernelspec": {
   "display_name": "Python 3",
   "language": "python",
   "name": "python3"
  },
  "language_info": {
   "codemirror_mode": {
    "name": "ipython",
    "version": 3
   },
   "file_extension": ".py",
   "mimetype": "text/x-python",
   "name": "python",
   "nbconvert_exporter": "python",
   "pygments_lexer": "ipython3",
   "version": "3.8.3"
  }
 },
 "nbformat": 4,
 "nbformat_minor": 4
}
