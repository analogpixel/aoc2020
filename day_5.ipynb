{
 "cells": [
  {
   "cell_type": "markdown",
   "metadata": {},
   "source": [
    "# Day 5\n",
    "\n",
    "https://adventofcode.com/2020/day/5"
   ]
  },
  {
   "cell_type": "code",
   "execution_count": 60,
   "metadata": {},
   "outputs": [
    {
     "ename": "AssertionError",
     "evalue": "output should be 820",
     "output_type": "error",
     "traceback": [
      "\u001b[0;31m---------------------------------------------------------------------------\u001b[0m",
      "\u001b[0;31mAssertionError\u001b[0m                            Traceback (most recent call last)",
      "\u001b[0;32m<ipython-input-60-0b997576534c>\u001b[0m in \u001b[0;36m<module>\u001b[0;34m\u001b[0m\n\u001b[1;32m     32\u001b[0m \u001b[0;34m\u001b[0m\u001b[0m\n\u001b[1;32m     33\u001b[0m \u001b[0;34m\u001b[0m\u001b[0m\n\u001b[0;32m---> 34\u001b[0;31m \u001b[0;32massert\u001b[0m \u001b[0mparseString\u001b[0m\u001b[0;34m(\u001b[0m\u001b[0;34m\"BBFFBBFRLL\"\u001b[0m\u001b[0;34m)\u001b[0m\u001b[0;34m[\u001b[0m\u001b[0;36m2\u001b[0m\u001b[0;34m]\u001b[0m \u001b[0;34m==\u001b[0m \u001b[0;36m8201\u001b[0m \u001b[0;34m,\u001b[0m \u001b[0;34m\"output should be 820\"\u001b[0m\u001b[0;34m\u001b[0m\u001b[0;34m\u001b[0m\u001b[0m\n\u001b[0m",
      "\u001b[0;31mAssertionError\u001b[0m: output should be 820"
     ]
    }
   ],
   "source": [
    "import math \n",
    "s = \"FBFBBFFRLR\"\n",
    "\n",
    "# binary space partitioning\n",
    "def parseString(s):\n",
    "    r = [0,127]\n",
    "    c = [0,7]\n",
    "    \n",
    "    row=0\n",
    "    col=0\n",
    "    for x in s:\n",
    "        rhm = round( (r[1]-r[0]) /2 )\n",
    "        chm = round( (c[1]-c[0]) /2 )\n",
    "        if x == 'F':\n",
    "            if rhm == 0:\n",
    "                row = r[0]\n",
    "            else:\n",
    "                r[1] = r[1] - rhm\n",
    "        elif x == 'B':\n",
    "            if rhm == 0:\n",
    "                row = r[1]\n",
    "            r[0] = r[0] + rhm\n",
    "        elif x == 'L':\n",
    "            if chm == 0:\n",
    "                col = c[0]\n",
    "            c[1] = c[1] - chm\n",
    "        elif x == 'R':\n",
    "            if chm == 0:\n",
    "                col = c[1]\n",
    "            c[0] = c[0] + chm\n",
    "    return [row,col, row*8+col]\n",
    "\n",
    "\n",
    "assert parseString(\"BBFFBBFRLL\")[2] == 820 , \"output should be 820\"\n"
   ]
  },
  {
   "cell_type": "code",
   "execution_count": 53,
   "metadata": {},
   "outputs": [
    {
     "name": "stdout",
     "output_type": "stream",
     "text": [
      "The max seat id is 878\n"
     ]
    }
   ],
   "source": [
    "input_file  = \"data/day5.txt\"\n",
    "\n",
    "l1 = [ x.strip() for x in open(input_file).readlines()]\n",
    "\n",
    "## Part 1\n",
    "print( \"The max seat id is {}\".format( max( [parseString(z)[2] for z in l1])))"
   ]
  },
  {
   "cell_type": "code",
   "execution_count": 54,
   "metadata": {},
   "outputs": [
    {
     "name": "stdout",
     "output_type": "stream",
     "text": [
      "You are in seat number 504\n"
     ]
    }
   ],
   "source": [
    "allSeats = sorted([parseString(z)[2] for z in l1])\n",
    "\n",
    "for i in range(allSeats[0], allSeats[-1]+1):\n",
    "    if not i in allSeats:\n",
    "        print(\"You are in seat number {}\".format(i))\n"
   ]
  }
 ],
 "metadata": {
  "kernelspec": {
   "display_name": "Python 3",
   "language": "python",
   "name": "python3"
  },
  "language_info": {
   "codemirror_mode": {
    "name": "ipython",
    "version": 3
   },
   "file_extension": ".py",
   "mimetype": "text/x-python",
   "name": "python",
   "nbconvert_exporter": "python",
   "pygments_lexer": "ipython3",
   "version": "3.8.3"
  }
 },
 "nbformat": 4,
 "nbformat_minor": 4
}
