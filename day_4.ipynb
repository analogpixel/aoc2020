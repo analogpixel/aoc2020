{
 "cells": [
  {
   "cell_type": "markdown",
   "metadata": {},
   "source": [
    "# Day 4\n",
    "\n",
    "https://adventofcode.com/2020/day/4"
   ]
  },
  {
   "cell_type": "code",
   "execution_count": 45,
   "metadata": {},
   "outputs": [],
   "source": [
    "import re\n",
    "\n",
    "sample_file = \"data/day4_sample_1.txt\"\n",
    "input_file  = \"data/day4.txt\"\n",
    "\n",
    "# cid doesn't matter\n",
    "types = ['byr', 'iyr', 'eyr', 'hgt', 'hcl', 'ecl', 'pid']\n",
    "\n",
    "l1 = [ x.strip() for x in open(input_file).readlines()]\n"
   ]
  },
  {
   "cell_type": "code",
   "execution_count": 19,
   "metadata": {},
   "outputs": [
    {
     "name": "stdout",
     "output_type": "stream",
     "text": [
      "254 33\n"
     ]
    }
   ],
   "source": [
    "total = 0\n",
    "valid=0\n",
    "error=0\n",
    "for line in l1:\n",
    "    if line == \"\":\n",
    "        if total == 7:\n",
    "            valid +=1\n",
    "        else:\n",
    "            error +=1\n",
    "        total = 0\n",
    "    else:\n",
    "        for item in line.strip().split(' '):\n",
    "            [k,v] = item.split(\":\")\n",
    "            if k in types:\n",
    "                total +=1 \n",
    "\n",
    "if total == 7:\n",
    "    valid+=1\n",
    "else:\n",
    "    error+=1\n",
    "\n",
    "print(valid,error)"
   ]
  },
  {
   "cell_type": "markdown",
   "metadata": {},
   "source": [
    "## Part 2"
   ]
  },
  {
   "cell_type": "code",
   "execution_count": 47,
   "metadata": {},
   "outputs": [
    {
     "name": "stdout",
     "output_type": "stream",
     "text": [
      "184 103\n"
     ]
    }
   ],
   "source": [
    "bad_data = \"\"\"eyr:1972 cid:100\n",
    "hcl:#18171d ecl:amb hgt:170 pid:186cm iyr:2018 byr:1926\n",
    "\n",
    "iyr:2019\n",
    "hcl:#602927 eyr:1967 hgt:170cm\n",
    "ecl:grn pid:012533040 byr:1946\n",
    "\n",
    "hcl:dab227 iyr:2012\n",
    "ecl:brn hgt:182cm pid:021572410 eyr:2020 byr:1992 cid:277\n",
    "\n",
    "hgt:59cm ecl:zzz\n",
    "eyr:2038 hcl:74454a iyr:2023\n",
    "pid:3556412378 byr:2007\"\"\"\n",
    "\n",
    "good_data = \"\"\"pid:087499704 hgt:74in ecl:grn iyr:2012 eyr:2030 byr:1980\n",
    "hcl:#623a2f\n",
    "\n",
    "eyr:2029 ecl:blu cid:129 byr:1989\n",
    "iyr:2014 pid:896056539 hcl:#a97842 hgt:165cm\n",
    "\n",
    "hcl:#888785\n",
    "hgt:164cm byr:2001 iyr:2015 cid:88\n",
    "pid:545766238 ecl:hzl\n",
    "eyr:2022\n",
    "\n",
    "iyr:2010 hgt:158cm hcl:#b6652a ecl:blu byr:1944 eyr:2021 pid:093154719\"\"\"\n",
    "\n",
    "\n",
    "total = 0\n",
    "valid=0\n",
    "error=0\n",
    "\n",
    "# l1 = bad_data.split(\"\\n\")\n",
    "\n",
    "def is_valid(k,v):\n",
    "    if k == 'byr' and int(v) >= 1920 and int(v) <= 2020:\n",
    "        return True\n",
    "    elif k == 'iyr' and int(v) >= 2010 and int(v) <= 2020:\n",
    "        return True\n",
    "    elif k == 'eyr' and int(v) >= 2020 and int(v) <= 2030:\n",
    "        return True\n",
    "    elif k == 'hgt':\n",
    "        if v.find('cm') != -1:\n",
    "            v = int(v[:-2])\n",
    "            if v >= 150 and v <= 192:\n",
    "                return True\n",
    "        elif v.find('in') != -1:\n",
    "            v = int(v[:-2])\n",
    "            if v >= 59 and v <= 76:\n",
    "                return True\n",
    "    elif k == 'hcl':\n",
    "        if re.match(\"#[0-9a-f]{6}\", v):\n",
    "            return True\n",
    "    elif k == 'ecl' and v in ['amb' ,'blu' ,'brn', 'gry', 'grn', 'hzl', 'oth']:\n",
    "        return True\n",
    "    elif k == 'pid' and len(v) == 9:\n",
    "        return True\n",
    "                \n",
    "for line in l1:\n",
    "    if line == \"\":\n",
    "        if total == 7:\n",
    "            valid +=1\n",
    "        else:\n",
    "            error +=1\n",
    "        total = 0\n",
    "    else:\n",
    "        for item in line.strip().split(' '):\n",
    "            [k,v] = item.split(\":\")\n",
    "            if is_valid(k,v):\n",
    "                total += 1\n",
    "    \n",
    "if total == 7:\n",
    "    valid+=1\n",
    "else:\n",
    "    error+=1\n",
    "\n",
    "print(valid,error)\n",
    "\n"
   ]
  }
 ],
 "metadata": {
  "kernelspec": {
   "display_name": "Python 3",
   "language": "python",
   "name": "python3"
  },
  "language_info": {
   "codemirror_mode": {
    "name": "ipython",
    "version": 3
   },
   "file_extension": ".py",
   "mimetype": "text/x-python",
   "name": "python",
   "nbconvert_exporter": "python",
   "pygments_lexer": "ipython3",
   "version": "3.8.3"
  }
 },
 "nbformat": 4,
 "nbformat_minor": 4
}
