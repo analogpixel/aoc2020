{
 "cells": [
  {
   "cell_type": "markdown",
   "metadata": {},
   "source": [
    "# Day 16\n",
    "\n",
    "https://adventofcode.com/2020/day/16\n",
    "\n",
    "## Part 1\n"
   ]
  },
  {
   "cell_type": "code",
   "execution_count": 137,
   "metadata": {},
   "outputs": [
    {
     "name": "stdout",
     "output_type": "stream",
     "text": [
      "22057\n"
     ]
    }
   ],
   "source": [
    "import re\n",
    "\n",
    "input_file=\"data/day16.txt\"\n",
    "l1 = [ x.strip() for x in open(input_file).readlines()]\n",
    "\n",
    "\n",
    "sample_input_1 = \"\"\"class aa: 1-3 or 5-7\n",
    "row: 6-11 or 33-44\n",
    "seat: 13-40 or 45-50\n",
    "\n",
    "your ticket:\n",
    "7,1,14\n",
    "\n",
    "nearby tickets:\n",
    "7,3,47\n",
    "40,4,50\n",
    "55,2,20\n",
    "38,6,12\"\"\"\n",
    "\n",
    "sample_input_2 = \"\"\"class: 0-1 or 4-19\n",
    "row: 0-5 or 8-19\n",
    "seat: 0-13 or 16-19\n",
    "\n",
    "your ticket:\n",
    "11,12,13\n",
    "\n",
    "nearby tickets:\n",
    "3,9,18\n",
    "15,1,5\n",
    "5,14,9\"\"\"\n",
    "\n",
    "puz_input = [ x.strip() for x in sample_input_2.split(\"\\n\")]\n",
    "puz_input = l1\n",
    "\n",
    "def check_lists(list_in, num):\n",
    "    for l in list_in:\n",
    "        if num in list_in[l]:\n",
    "            return True\n",
    "    return False\n",
    "\n",
    "data  = {}\n",
    "invalid = []\n",
    "valid_data = []\n",
    "i = 0\n",
    "for x in puz_input:\n",
    "\n",
    "    if x.find(\"your ticket\") != -1:\n",
    "        i = 1\n",
    "    elif x.find(\"nearby tickets\") != -1:\n",
    "        i = 2\n",
    "    elif x.find(\":\") != -1:\n",
    "        m = re.match(\"(.[^:]*): (\\d+)-(\\d+) or (\\d+)-(\\d+)\", x)\n",
    "        data[m[1]] = list( range( int(m[2]), int(m[3])+1 ))  + list( range( int(m[4]), int(m[5])+1 ))\n",
    "    elif i in [1,2]  and x != \"\":\n",
    "        v=True\n",
    "        nums = [ int(y.strip()) for y in x.split(',')]\n",
    "        for n in nums:\n",
    "            if not check_lists(data, n):\n",
    "                invalid.append(n)\n",
    "                v=False\n",
    "        if v:\n",
    "            valid_data.append(nums)\n",
    "            \n",
    "\n",
    "# answer Part 1\n",
    "print(sum(invalid))"
   ]
  },
  {
   "cell_type": "markdown",
   "metadata": {},
   "source": [
    "## Part 2"
   ]
  },
  {
   "cell_type": "code",
   "execution_count": 138,
   "metadata": {},
   "outputs": [],
   "source": [
    "## Create the list of possible valid answers\n",
    "\n",
    "i = 0\n",
    "\n",
    "pos_valid = {}\n",
    "for c in data:\n",
    "    for i in range(0, len(valid_data[0])):\n",
    "        #print(\"testing\",c, \" on col:\", i)\n",
    "        if all( [y in data[c] for y in [x[i] for x in valid_data]]):\n",
    "            #print(i,c)\n",
    "            if c in pos_valid:\n",
    "                pos_valid[c].append( i)\n",
    "            else:\n",
    "                pos_valid[c] = [i]"
   ]
  },
  {
   "cell_type": "code",
   "execution_count": 140,
   "metadata": {},
   "outputs": [
    {
     "name": "stdout",
     "output_type": "stream",
     "text": [
      "arrival track [3]\n",
      "class [7]\n",
      "price [13]\n",
      "type [4]\n",
      "row [2]\n",
      "wagon [16]\n",
      "train [10]\n",
      "departure platform [0]\n",
      "departure track [17]\n",
      "departure date [19]\n",
      "departure time [6]\n",
      "departure station [9]\n",
      "departure location [18]\n",
      "route [11]\n",
      "arrival platform [1]\n",
      "zone [8]\n",
      "seat [5]\n",
      "arrival location [12]\n",
      "duration [14]\n",
      "arrival station [15]\n"
     ]
    }
   ],
   "source": [
    "## Super lazy, but works\n",
    "#\n",
    "\n",
    "# the puzzle input was some what nice, you start with an entry\n",
    "# with just one possible value, and when you remove that\n",
    "# value from the rest of the entries, you get another\n",
    "# entry with just one value....  just keep doing that, until\n",
    "# everything has one value:\n",
    "\n",
    "import copy\n",
    "\n",
    "working = copy.copy(pos_valid)\n",
    "\n",
    "final_names = {}\n",
    "for zzz in range(0,100):\n",
    "    for i in pos_valid:\n",
    "        if len(pos_valid[i]) == 1 and i not in final_names:\n",
    "            print(i, pos_valid[i])\n",
    "            final_names[ i ] = pos_valid[i][0]\n",
    "            for x in pos_valid:\n",
    "                if x == i:\n",
    "                    continue\n",
    "                else:\n",
    "                    try:\n",
    "                        pos_valid[x].remove( pos_valid[i][0] )\n",
    "                    except:\n",
    "                        pass\n",
    "            break"
   ]
  },
  {
   "cell_type": "code",
   "execution_count": 150,
   "metadata": {},
   "outputs": [
    {
     "name": "stdout",
     "output_type": "stream",
     "text": [
      "1093427331937\n"
     ]
    }
   ],
   "source": [
    "## Then you loop through and figure out the answer\n",
    "t = 1\n",
    "for k in final_names:\n",
    "    if k.find(\"departure\") != -1:\n",
    "        t *= valid_data[0][final_names[k]]\n",
    "print(t)"
   ]
  }
 ],
 "metadata": {
  "kernelspec": {
   "display_name": "Python 3",
   "language": "python",
   "name": "python3"
  },
  "language_info": {
   "codemirror_mode": {
    "name": "ipython",
    "version": 3
   },
   "file_extension": ".py",
   "mimetype": "text/x-python",
   "name": "python",
   "nbconvert_exporter": "python",
   "pygments_lexer": "ipython3",
   "version": "3.8.3"
  }
 },
 "nbformat": 4,
 "nbformat_minor": 4
}
