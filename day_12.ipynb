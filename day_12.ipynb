{
 "cells": [
  {
   "cell_type": "markdown",
   "metadata": {},
   "source": [
    "# Day 12\n",
    "\n",
    "https://adventofcode.com/2020/day/12\n",
    "    \n",
    "    \n",
    "* Action N means to move north by the given value.\n",
    "* Action S means to move south by the given value.\n",
    "* Action E means to move east by the given value.\n",
    "* Action W means to move west by the given value.\n",
    "* Action L means to turn left the given number of degrees.\n",
    "* Action R means to turn right the given number of degrees.\n",
    "* Action F means to move forward by the given value in the direction the ship is currently facing.\n",
    "\n",
    "   \n",
    "start facing east (0d)"
   ]
  },
  {
   "cell_type": "markdown",
   "metadata": {},
   "source": [
    "Rotating around a point wasn't needed once I realize that since the waypoint is relative to the boat, that means the waypoint is always rotaint aroudn 0,0.\n",
    "\n",
    "distance wasn't used either."
   ]
  },
  {
   "cell_type": "code",
   "execution_count": 158,
   "metadata": {},
   "outputs": [],
   "source": [
    "import math\n",
    "\n",
    "# rotate point (px,py) around point(cx,cy) by degree d\n",
    "def rot_around_point(cx,cy, px,py, d):\n",
    " \n",
    "    px = px - cx\n",
    "    py = py - cy\n",
    "\n",
    "    _d = d * (pi/180)\n",
    "    _x = round(cos(_d) * px - sin(_d) * py)\n",
    "    _y = round(sin(_d) * px + cos(_d) * py)\n",
    "    \n",
    "    return [_x+cx,_y+cy]\n",
    "\n",
    "def distance(p1x, p1y, p2x, p2y):\n",
    "    return round(math.sqrt( (p2x-p1x)**2 + (p2y - p1y)**2 ))\n"
   ]
  },
  {
   "cell_type": "markdown",
   "metadata": {},
   "source": [
    "## Part 1"
   ]
  },
  {
   "cell_type": "code",
   "execution_count": 58,
   "metadata": {},
   "outputs": [
    {
     "name": "stdout",
     "output_type": "stream",
     "text": [
      "-1328.0 129.0 1457.0\n"
     ]
    }
   ],
   "source": [
    "s_input_1 = \"\"\"F10\n",
    "N3\n",
    "F7\n",
    "R90\n",
    "F11\"\"\"\n",
    "\n",
    "#puz_input = s_input_1.split('\\n')\n",
    "\n",
    "\n",
    "input_file=\"data/day12.txt\"\n",
    "puz_input = [ x.strip() for x in open(input_file).readlines()]\n",
    "\n",
    "\n",
    "\n",
    "v = np.array( [1,0] )\n",
    "d = 0\n",
    "x = 0\n",
    "y = 0\n",
    "\n",
    "for line in puz_input:\n",
    "    cmd = line[0]\n",
    "    num = int(line[1:])\n",
    "    if cmd == \"R\":\n",
    "        d += num\n",
    "    elif cmd == \"L\":\n",
    "        d -= num\n",
    "    elif cmd == \"F\":\n",
    "        _d = d * (pi/180)\n",
    "        _x = round(cos(_d) * v[0] - sin(_d) * v[1])\n",
    "        _y = round(sin(_d) * v[0] + cos(_d) * v[1])\n",
    "        x += _x * num\n",
    "        y += _y * num\n",
    "    elif cmd == 'N':\n",
    "        y -= num\n",
    "    elif cmd == 'S':\n",
    "        y += num\n",
    "    elif cmd == 'E':\n",
    "        x += num\n",
    "    elif cmd == \"W\":\n",
    "        x -= num\n",
    "\n",
    "print(x,y, abs(x) + abs(y))"
   ]
  },
  {
   "cell_type": "code",
   "execution_count": 53,
   "metadata": {},
   "outputs": [
    {
     "name": "stdout",
     "output_type": "stream",
     "text": [
      "1.0 0.0\n"
     ]
    }
   ],
   "source": [
    "import numpy as np\n",
    "from math import cos, sin, pi, ceil, floor\n",
    "\n",
    "## Rotating a vector in python\n",
    "\n",
    "v = np.array( [1,0] )\n",
    "d = 0 * (pi/180)\n",
    "\n",
    "_x = round(cos(d) * v[0] - sin(d) * v[1])\n",
    "_y = round(sin(d) * v[0] + cos(d) * v[1])\n",
    "\n",
    "print(_x,_y)"
   ]
  },
  {
   "cell_type": "markdown",
   "metadata": {},
   "source": [
    "## Part 2"
   ]
  },
  {
   "cell_type": "code",
   "execution_count": 169,
   "metadata": {},
   "outputs": [
    {
     "name": "stdout",
     "output_type": "stream",
     "text": [
      "-20103 -86757 106860\n"
     ]
    }
   ],
   "source": [
    "s_input_1 = \"\"\"F10\n",
    "N3\n",
    "F7\n",
    "R90\n",
    "F11\"\"\"\n",
    "\n",
    "s_input_2 = \"\"\"L90\n",
    "L90\n",
    "L90\n",
    "R90\n",
    "R90\n",
    "R90\"\"\"\n",
    "\n",
    "puz_input = s_input_1.split('\\n')\n",
    "\n",
    "\n",
    "input_file=\"data/day12.txt\"\n",
    "puz_input = [ x.strip() for x in open(input_file).readlines()]\n",
    "\n",
    "v = np.array( [1,0] )\n",
    "#d = 0\n",
    "\n",
    "wx = 10\n",
    "wy = 1\n",
    "\n",
    "x = 0\n",
    "y = 0\n",
    "\n",
    "\n",
    "#print(\"S\",\"0\",x,y,wx,wy)\n",
    "for line in puz_input:\n",
    "    cmd = line[0]\n",
    "    num = int(line[1:])\n",
    "    if cmd == \"R\":\n",
    "        #d += num        \n",
    "        [wx,wy] = rot_around_point(0,0, wx,wy ,-num)\n",
    "    elif cmd == \"L\":\n",
    "        #d -= num\n",
    "        [wx,wy] = rot_around_point(0,0, wx,wy, num)\n",
    "    elif cmd == \"F\":\n",
    "        x += wx * num\n",
    "        y += wy * num\n",
    "    elif cmd == 'N':\n",
    "        wy += num\n",
    "    elif cmd == 'S':\n",
    "        wy -= num\n",
    "    elif cmd == 'E':\n",
    "        wx += num\n",
    "    elif cmd == \"W\":\n",
    "        wx -= num\n",
    "        \n",
    "    #print(cmd,num, x,y,wx,wy)\n",
    "\n",
    "print(x,y, abs(x) + abs(y))\n",
    "# 286\n",
    "        "
   ]
  }
 ],
 "metadata": {
  "kernelspec": {
   "display_name": "Python 3",
   "language": "python",
   "name": "python3"
  },
  "language_info": {
   "codemirror_mode": {
    "name": "ipython",
    "version": 3
   },
   "file_extension": ".py",
   "mimetype": "text/x-python",
   "name": "python",
   "nbconvert_exporter": "python",
   "pygments_lexer": "ipython3",
   "version": "3.8.3"
  }
 },
 "nbformat": 4,
 "nbformat_minor": 4
}
