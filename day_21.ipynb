{
 "cells": [
  {
   "cell_type": "code",
   "execution_count": 21,
   "metadata": {},
   "outputs": [
    {
     "data": {
      "text/plain": [
       "'mxmxvkd,sqjhc,fvjkl'"
      ]
     },
     "execution_count": 21,
     "metadata": {},
     "output_type": "execute_result"
    }
   ],
   "source": [
    "s_input_1=\"\"\"mxmxvkd kfcds sqjhc nhms (contains dairy, fish)\n",
    "trh fvjkl sbzzf mxmxvkd (contains dairy)\n",
    "sqjhc fvjkl (contains soy)\n",
    "sqjhc mxmxvkd sbzzf (contains fish)\"\"\"\n",
    "puz_input = s_input_1.strip().split(\"\\n\")\n",
    "\n",
    "\n",
    "#input_file=\"data/day21.txt\"\n",
    "#puz_input = [ x.strip() for x in open(input_file).readlines()]\n",
    "\n",
    "\n",
    "puz_data = []\n",
    "ingredients = []\n",
    "for x in puz_input:\n",
    "    j,k = x.split('(contains ')\n",
    "    word_list = j.strip().split(' ')\n",
    "    known_words =  [ x.strip() for x in k.replace(')','').split(',')]\n",
    "    \n",
    "    for kw in known_words:\n",
    "        if kw not in ingredients:\n",
    "            ingredients.append(kw)\n",
    "            \n",
    "    puz_data.append( [word_list, known_words])\n",
    "                    \n",
    "\n",
    "valid_words = {}        \n",
    "for ing in ingredients:\n",
    "    for line in puz_data:\n",
    "        if ing in line[1]:\n",
    "            if ing not in valid_words:\n",
    "                valid_words[ing] = line[0]\n",
    "            else:\n",
    "                valid_words[ing] = list( set(valid_words[ing]) & set(line[0]) )\n",
    "\n",
    "good_list = []\n",
    "for k in valid_words:\n",
    "     good_list += valid_words[k]\n",
    "\n",
    "## Part 1\n",
    "t = 0\n",
    "for line in puz_data:\n",
    "    for w in line[0]:\n",
    "        if w not in good_list:\n",
    "            t+=1\n",
    "\n",
    "            \n",
    "## Part 2\n",
    "finished=False\n",
    "while not finished:\n",
    "    finished=True\n",
    "    for v in valid_words:\n",
    "        if len(valid_words[v]) == 1:\n",
    "            for y in valid_words:\n",
    "                if y == v:\n",
    "                    continue\n",
    "                else:\n",
    "                    if valid_words[v][0] in valid_words[y]:\n",
    "                        valid_words[y].remove(valid_words[v][0])\n",
    "        else:\n",
    "            finished=False\n",
    "            \n",
    "\",\".join([ valid_words[d][0] for d in sorted(valid_words)])\n"
   ]
  }
 ],
 "metadata": {
  "kernelspec": {
   "display_name": "Python 3",
   "language": "python",
   "name": "python3"
  },
  "language_info": {
   "codemirror_mode": {
    "name": "ipython",
    "version": 3
   },
   "file_extension": ".py",
   "mimetype": "text/x-python",
   "name": "python",
   "nbconvert_exporter": "python",
   "pygments_lexer": "ipython3",
   "version": "3.8.3"
  }
 },
 "nbformat": 4,
 "nbformat_minor": 4
}
