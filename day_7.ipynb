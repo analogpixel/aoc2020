{
 "cells": [
  {
   "cell_type": "code",
   "execution_count": null,
   "metadata": {},
   "outputs": [],
   "source": [
    "%matplotlib inline\n",
    "\n",
    "plt.rcParams['figure.figsize'] = [20, 10]\n",
    "\n",
    "import networkx as nx\n",
    "import matplotlib.pyplot as plt\n",
    "import pygraphviz\n",
    "\n",
    "input_file=\"data/day7_sample_1.txt\"\n",
    "input_file=\"data/day7.txt\"\n",
    "l1 = [ x.strip() for x in open(input_file).readlines()]\n",
    "\n",
    "#G=nx.Graph()\n",
    "G=nx.DiGraph()\n",
    "for line in l1:\n",
    "    line = line.replace('bags','bag').replace('.', '')\n",
    "    [m,n] = line.split(\"contain\")\n",
    "    m = m.strip().replace(\" \",\"_\")\n",
    "    n= [ \"_\".join(x.strip().split(\" \")[1:]) for x in n.split(',')]\n",
    "\n",
    "    G.add_nodes_from([m] + n)\n",
    "    \n",
    "    for edge in n:\n",
    "        G.add_edge(m, edge, len=400)\n",
    "        \n",
    "\"\"\"\n",
    "print(\"Nodes of graph: \")\n",
    "print(G.nodes())\n",
    "print(\"Edges of graph: \")\n",
    "print(G.edges())\n",
    "\"\"\"\n",
    "\n",
    "## nx.has_path(G, \"dark_orange_bag\", \"shiny_gold_bag\")\n",
    "\n",
    "## Solution to 1\n",
    "total = 0\n",
    "for n in G.nodes():\n",
    "    if n != \"shiny_gold_bag\" and nx.has_path(G, n, \"shiny_gold_bag\"):\n",
    "        total +=1\n",
    "print(total)\n",
    "\n",
    "## Draw a pretty picture of the graph\n",
    "\"\"\"\n",
    "nx.draw(G, with_labels=True, node_size=2500, arrowsize=20, arrowstyle='fancy')\n",
    "pos = nx.nx_agraph.graphviz_layout(G)\n",
    "nx.draw_networkx_edge_labels(G, pos)\n",
    "plt.show() # display\n",
    "\"\"\""
   ]
  },
  {
   "cell_type": "markdown",
   "metadata": {},
   "source": [
    "```\n",
    "light red bags contain 1 bright white bag, 2 muted yellow bags.\n",
    "dark orange bags contain 3 bright white bags, 4 muted yellow bags.\n",
    "bright white bags contain 1 shiny gold bag.\n",
    "muted yellow bags contain 2 shiny gold bags, 9 faded blue bags.\n",
    "shiny gold bags contain 1 dark olive bag, 2 vibrant plum bags.\n",
    "dark olive bags contain 3 faded blue bags, 4 dotted black bags.\n",
    "vibrant plum bags contain 5 faded blue bags, 6 dotted black bags.\n",
    "faded blue bags contain no other bags.\n",
    "dotted black bags contain no other bags.\n",
    "```"
   ]
  },
  {
   "cell_type": "code",
   "execution_count": null,
   "metadata": {},
   "outputs": [],
   "source": [
    "a = \"light red bags contain 1 bright white bag, 2 muted yellow bags.\"\n",
    "\n",
    "[m,n] = a.split(\"contain\")\n",
    "m = m.strip().replace(\" \",\"_\")\n",
    "n= [ \"_\".join(x.strip().split(\" \")[1:]).replace('.','').replace('bags','bag') for x in n.split(',')]\n",
    "\n",
    "print(m,n)"
   ]
  },
  {
   "cell_type": "markdown",
   "metadata": {},
   "source": [
    "## Part 2"
   ]
  },
  {
   "cell_type": "code",
   "execution_count": 19,
   "metadata": {},
   "outputs": [
    {
     "name": "stdout",
     "output_type": "stream",
     "text": [
      "29547\n"
     ]
    }
   ],
   "source": [
    "import re\n",
    "\n",
    "input_file=\"data/day7_sample_2.txt\"\n",
    "input_file=\"data/day7.txt\"\n",
    "l1 = [ x.strip() for x in open(input_file).readlines()]\n",
    "\n",
    "\n",
    "def count_bags(bag_name):\n",
    "    if len(bag_data[bag_name]) == 0:\n",
    "        #print(\"{} has no other bags return 1\".format(bag_name))\n",
    "        return 0\n",
    "    else:\n",
    "        count = 0\n",
    "        for b in bag_data[bag_name]:\n",
    "            ## add the bags in this layer\n",
    "            count += b[1]\n",
    "            #print(\"{} : count({}) += {} * count_bags({})\".format( bag_name, count, b[1], b[0]))\n",
    "            ## then add the bags in those bags\n",
    "            count += b[1] * count_bags(b[0])\n",
    "            #print(\"count:\", count)\n",
    "        return count\n",
    "\n",
    "    \n",
    "bag_data = {}\n",
    "for line in l1:\n",
    "    line = line.replace('bags','bag')\n",
    "    m = re.match(\"^(.*) contain (.*)\\.$\", line)\n",
    "    bag_type = m[1]\n",
    "    bag_contains = [x.strip() for x in m[2].split(\",\")]\n",
    "    \n",
    "    # parse all the bags inside the bag\n",
    "    all_bags = []\n",
    "    for bag in bag_contains:\n",
    "        m2 = re.match(\"^(\\d+) (.*)$\", bag)\n",
    "        if m2:\n",
    "            num_bags = int(m2[1]) \n",
    "            bag_color = m2[2]\n",
    "            all_bags.append( [bag_color, num_bags])\n",
    "\n",
    "    bag_data[bag_type] = all_bags\n",
    "\n",
    "#print(bag_data)\n",
    "print(count_bags('shiny gold bag'))"
   ]
  }
 ],
 "metadata": {
  "kernelspec": {
   "display_name": "Python 3",
   "language": "python",
   "name": "python3"
  },
  "language_info": {
   "codemirror_mode": {
    "name": "ipython",
    "version": 3
   },
   "file_extension": ".py",
   "mimetype": "text/x-python",
   "name": "python",
   "nbconvert_exporter": "python",
   "pygments_lexer": "ipython3",
   "version": "3.8.3"
  }
 },
 "nbformat": 4,
 "nbformat_minor": 4
}
