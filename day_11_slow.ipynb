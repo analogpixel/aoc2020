{
 "cells": [
  {
   "cell_type": "markdown",
   "metadata": {},
   "source": [
    "# Day 11\n",
    "\n",
    "https://adventofcode.com/2020/day/11\n",
    "\n",
    "\n",
    "## Seat Rules\n",
    "All decisions are based on the number of occupied seats adjacent to a given seat (one of the eight positions immediately up, down, left, right, or diagonal from the seat). The following rules are applied to every seat simultaneously:\n",
    "\n",
    "* If a seat is empty (L) and there are no occupied seats adjacent to it, the seat becomes occupied.\n",
    "* If a seat is occupied (#) and four or more seats adjacent to it are also occupied, the seat becomes empty.\n",
    "* Otherwise, the seat's state does not change.\n",
    "\n"
   ]
  },
  {
   "cell_type": "code",
   "execution_count": 134,
   "metadata": {},
   "outputs": [],
   "source": [
    "sample_input_1=\"\"\"L.LL.LL.LL\n",
    "LLLLLLL.LL\n",
    "L.L.L..L..\n",
    "LLLL.LL.LL\n",
    "L.LL.LL.LL\n",
    "L.LLLLL.LL\n",
    "..L.L.....\n",
    "LLLLLLLLLL\n",
    "L.LLLLLL.L\n",
    "L.LLLLL.LL\"\"\"\n",
    "\n",
    "\n",
    "puzzle_input = open(\"data/day11.txt\").read()\n",
    "#puzzle_input = sample_input_1\n",
    "x_len = len(puzzle_input.split(\"\\n\")[0])\n",
    "y_len = len(puzzle_input.split(\"\\n\"))\n",
    "puzzle_input = puzzle_input.replace('\\n','')\n"
   ]
  },
  {
   "cell_type": "code",
   "execution_count": null,
   "metadata": {},
   "outputs": [],
   "source": [
    "def gets(x,y, read_list):\n",
    "    global x_len, y_len\n",
    "    if x < 0 or x > x_len-1 or y < 0 or y > y_len-1:\n",
    "        return \".\"\n",
    "    index = x + (y*row_len)\n",
    "    return read_list[ index ] \n",
    "\n",
    "def sets(x,y,s,c):\n",
    "    index = x + (y * row_len)\n",
    "    return s[:index] + c + s[index + 1:]\n",
    "    \n",
    "def count_seats(x,y,read_list):\n",
    "    full=0\n",
    "    empty=0\n",
    "    for xx in range(-1,2):\n",
    "        for yy in range(-1,2):\n",
    "            if x+xx == x and y+yy == y:\n",
    "                continue\n",
    "            c = gets(x+xx,y+yy, read_list)\n",
    "            if c == '#':\n",
    "                full+=1\n",
    "            elif c == 'L':\n",
    "                empty+=1\n",
    "    return [empty,full]\n",
    "\n",
    "def prints(read_list):\n",
    "    for c in range(0, y_len):\n",
    "        for r in range(0, x_len):\n",
    "            print( gets(r,c, read_list),end='' )\n",
    "        print(\"\")\n",
    "    print(\"---\")\n",
    "\n",
    "current_list = puzzle_input\n",
    "new_list = current_list\n",
    "\n",
    "while(True):\n",
    "    #prints(current_list)\n",
    "\n",
    "    for c in range(0,y_len):\n",
    "        for r in range(0, x_len):\n",
    "            seat_count = count_seats(r,c, current_list)\n",
    "            current_pos = gets(r,c,current_list)\n",
    "\n",
    "            if current_pos == 'L' and seat_count[1] == 0:\n",
    "                new_list = sets(r,c, new_list, '#')\n",
    "            if current_pos == '#' and seat_count[1] >=4:\n",
    "                #print(r,c, seat_count, current_pos)\n",
    "                new_list = sets(r,c, new_list, 'L')\n",
    "            \n",
    "    if current_list == new_list:\n",
    "        prints(current_list)\n",
    "        print(current_list.count(\"#\"))\n",
    "        print(\"stop\")\n",
    "        break\n",
    "    current_list = new_list"
   ]
  },
  {
   "cell_type": "code",
   "execution_count": 30,
   "metadata": {},
   "outputs": [
    {
     "data": {
      "text/plain": [
       "[-1, 0, 1]"
      ]
     },
     "execution_count": 30,
     "metadata": {},
     "output_type": "execute_result"
    }
   ],
   "source": [
    "list(range(-1,2))"
   ]
  },
  {
   "cell_type": "code",
   "execution_count": null,
   "metadata": {},
   "outputs": [],
   "source": []
  }
 ],
 "metadata": {
  "kernelspec": {
   "display_name": "Python 3",
   "language": "python",
   "name": "python3"
  },
  "language_info": {
   "codemirror_mode": {
    "name": "ipython",
    "version": 3
   },
   "file_extension": ".py",
   "mimetype": "text/x-python",
   "name": "python",
   "nbconvert_exporter": "python",
   "pygments_lexer": "ipython3",
   "version": "3.8.3"
  }
 },
 "nbformat": 4,
 "nbformat_minor": 4
}
