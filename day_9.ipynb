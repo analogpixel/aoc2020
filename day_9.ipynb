{
 "cells": [
  {
   "cell_type": "markdown",
   "metadata": {},
   "source": [
    "# Day 9\n",
    "\n",
    "https://adventofcode.com/2020/day/9"
   ]
  },
  {
   "cell_type": "code",
   "execution_count": 46,
   "metadata": {},
   "outputs": [],
   "source": [
    "# Data Load\n",
    "\n",
    "#input_file=\"data/day9_sample_1.txt\"\n",
    "#size=5\n",
    "\n",
    "input_file=\"data/day9.txt\"\n",
    "size=25"
   ]
  },
  {
   "cell_type": "markdown",
   "metadata": {},
   "source": [
    "## Part 1"
   ]
  },
  {
   "cell_type": "code",
   "execution_count": 44,
   "metadata": {},
   "outputs": [
    {
     "name": "stdout",
     "output_type": "stream",
     "text": [
      "no match on 552655238\n"
     ]
    }
   ],
   "source": [
    "l1 = [ int(x.strip()) for x in open(input_file).readlines()]\n",
    "\n",
    "\n",
    "win_start = 0\n",
    "win_end = (size - 1) # 0 indexed \n",
    "ptr = size \n",
    "\n",
    "while ptr < len(l1):\n",
    "    check_num = l1[ptr]\n",
    "    check_list = l1[win_start:win_end+1]\n",
    "    found=False\n",
    "    for i in check_list:\n",
    "        if  abs(check_num - i) in check_list and abs(check_num -i) != i:\n",
    "            #print(check_num, i, abs(i-check_num))\n",
    "            found=True\n",
    "            break\n",
    "    if not found:\n",
    "        print(\"no match on\", check_num)\n",
    "    win_start +=1\n",
    "    win_end +=1\n",
    "    ptr += 1"
   ]
  },
  {
   "cell_type": "markdown",
   "metadata": {},
   "source": [
    "## Part 2\n",
    "\n",
    "* sample answer 1 = 127\n",
    "* real answer 1 = 552655238"
   ]
  },
  {
   "cell_type": "code",
   "execution_count": 47,
   "metadata": {},
   "outputs": [
    {
     "name": "stdout",
     "output_type": "stream",
     "text": [
      "552655238 30484395 44768863\n",
      "Answer: 70672245\n"
     ]
    }
   ],
   "source": [
    "# ans = 127\n",
    "ans = 552655238\n",
    "ptr_start = 0\n",
    "ptr_end = 0\n",
    "\n",
    "while True:\n",
    "    found = False\n",
    "    total =0\n",
    "    while total < ans:\n",
    "        total += l1[ptr_end]\n",
    "        if total == ans:\n",
    "            print(total, l1[ptr_start], l1[ptr_end])\n",
    "            ans = max( l1[ptr_start:ptr_end+1] ) + min( l1[ptr_start:ptr_end+1] )\n",
    "            print(\"Answer:\" , ans)\n",
    "            found=True\n",
    "            break\n",
    "        else:\n",
    "            ptr_end +=1\n",
    "    if found:\n",
    "        break\n",
    "    else:\n",
    "        ptr_start +=1\n",
    "        ptr_end = ptr_start"
   ]
  }
 ],
 "metadata": {
  "kernelspec": {
   "display_name": "Python 3",
   "language": "python",
   "name": "python3"
  },
  "language_info": {
   "codemirror_mode": {
    "name": "ipython",
    "version": 3
   },
   "file_extension": ".py",
   "mimetype": "text/x-python",
   "name": "python",
   "nbconvert_exporter": "python",
   "pygments_lexer": "ipython3",
   "version": "3.8.3"
  }
 },
 "nbformat": 4,
 "nbformat_minor": 4
}
