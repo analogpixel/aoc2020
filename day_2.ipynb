{
 "cells": [
  {
   "cell_type": "markdown",
   "metadata": {},
   "source": [
    "# Day 2\n",
    "\n",
    "https://adventofcode.com/2020/day/2#part2"
   ]
  },
  {
   "cell_type": "markdown",
   "metadata": {},
   "source": [
    "## Part 1"
   ]
  },
  {
   "cell_type": "code",
   "execution_count": 4,
   "metadata": {},
   "outputs": [
    {
     "name": "stdout",
     "output_type": "stream",
     "text": [
      "625\n"
     ]
    }
   ],
   "source": [
    "l1 = [ x.strip() for x in open(\"data/day2.txt\").readlines()]\n",
    "\n",
    "total = 0\n",
    "for l in l1:\n",
    "    a = l.split(\":\")\n",
    "    [max_min,letter] = a[0].split(' ')\n",
    "    [minl, maxl] = [int(x) for x in max_min.split('-')]\n",
    "\n",
    " \n",
    "    oc = a[1].strip().count(letter)\n",
    "    if oc >= minl and oc <= maxl:\n",
    "        total +=1\n",
    "print(total)\n",
    "        "
   ]
  },
  {
   "cell_type": "markdown",
   "metadata": {},
   "source": [
    "## Part 2"
   ]
  },
  {
   "cell_type": "code",
   "execution_count": 35,
   "metadata": {},
   "outputs": [
    {
     "name": "stdout",
     "output_type": "stream",
     "text": [
      "391\n"
     ]
    }
   ],
   "source": [
    "l1 = [ x.strip() for x in open(\"data/day2.txt\").readlines()]\n",
    "\n",
    "total = 0\n",
    "for l in l1:\n",
    "    a = l.split(\":\")\n",
    "    message = \" \" + a[1].strip() # add a space since elves don't start from 0\n",
    "    [max_min,letter] = a[0].split(' ')\n",
    "    [minl, maxl] = [int(x) for x in max_min.split('-')]\n",
    "    \n",
    "    l1 = message[minl]\n",
    "    l2 = message[maxl]\n",
    "    if l1 != l2 and (l1 == letter or l2 == letter):\n",
    "        total +=1\n",
    "        \n",
    "print(total)\n"
   ]
  },
  {
   "cell_type": "code",
   "execution_count": null,
   "metadata": {},
   "outputs": [],
   "source": []
  },
  {
   "cell_type": "code",
   "execution_count": null,
   "metadata": {},
   "outputs": [],
   "source": []
  }
 ],
 "metadata": {
  "kernelspec": {
   "display_name": "Python 3",
   "language": "python",
   "name": "python3"
  },
  "language_info": {
   "codemirror_mode": {
    "name": "ipython",
    "version": 3
   },
   "file_extension": ".py",
   "mimetype": "text/x-python",
   "name": "python",
   "nbconvert_exporter": "python",
   "pygments_lexer": "ipython3",
   "version": "3.8.3"
  }
 },
 "nbformat": 4,
 "nbformat_minor": 4
}
