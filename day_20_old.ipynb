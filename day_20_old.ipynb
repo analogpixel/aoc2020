{
 "cells": [
  {
   "cell_type": "markdown",
   "metadata": {},
   "source": [
    "# day 20\n",
    "\n",
    "https://adventofcode.com/2020/day/20\n",
    "    "
   ]
  },
  {
   "cell_type": "code",
   "execution_count": 60,
   "metadata": {},
   "outputs": [
    {
     "name": "stdout",
     "output_type": "stream",
     "text": [
      "20899048083289\n",
      "2729 2 #.##...##. False\n",
      "2311 3 .#####..#. True\n"
     ]
    }
   ],
   "source": [
    "import re\n",
    "\n",
    "        \n",
    "# reverse a string\n",
    "def r(s):\n",
    "    return \"\".join(list(reversed(s)))\n",
    "\n",
    "\n",
    "input_file=\"data/day20_sample_1.txt\"\n",
    "#input_file=\"data/day20.txt\"\n",
    "l1 = [ x.strip() for x in open(input_file).readlines()]\n",
    "\n",
    "\n",
    "## Read in the tiles\n",
    "tile=\"\"\n",
    "tiles = {}\n",
    "connections = {}\n",
    "for line in l1:\n",
    "    if line == \"\":\n",
    "        continue\n",
    "    if line.find(\"Tile\") != -1:\n",
    "        m = re.match(\"Tile (\\d+):\", line)\n",
    "        tile = m[1]\n",
    "        connections[tile] = []\n",
    "    else:\n",
    "        if tile in tiles:\n",
    "            tiles[tile].append(line)\n",
    "        else:\n",
    "            tiles[tile] = [line]\n",
    "\n",
    "            \n",
    "## List out all the edges \n",
    "edges = {}\n",
    "for tile in tiles:\n",
    "    \n",
    "    edges[tile] = [ tiles[tile][0] ] # top 0\n",
    "    edges[tile].append( r(edges[tile][-1]) ) # top reflected 1\n",
    "    \n",
    "    edges[tile].append( \"\".join([e[-1] for e in tiles[tile]]) ) # right edge 2\n",
    "    edges[tile].append( r(edges[tile][-1]) ) # right reflected 3\n",
    "    \n",
    "    edges[tile].append( tiles[tile][-1] ) # bottom 4\n",
    "    edges[tile].append( r(edges[tile][-1]) ) # bottom reflected 5\n",
    "    \n",
    "    edges[tile].append( \"\".join([e[0] for e in tiles[tile]]) ) # left edge 6 \n",
    "    edges[tile].append( r(edges[tile][-1]) ) # left reflected 7\n",
    "\n",
    "    \n",
    "## Find out what edges touch\n",
    "for e1 in edges:\n",
    "    for e2 in edges:\n",
    "        if e1 == e2:\n",
    "            continue\n",
    "        if len( list(set(edges[e1] ) & set(edges[e2])) ) > 0:\n",
    "            if not e2 in connections[e1]:\n",
    "                connections[e1].append(e2)\n",
    "            if not e1 in connections[e2]:\n",
    "                connections[e2].append(e1)\n",
    "    \n",
    "## Count the corners\n",
    "## they only have 2 conections\n",
    "t = 1\n",
    "corners = []\n",
    "for c in connections:\n",
    "    if len(connections[c]) == 2:\n",
    "        corners.append(c)\n",
    "        t *= int(c)\n",
    "        \n",
    "## Answer to Part 1      \n",
    "print(t)\n",
    "\n",
    "\n",
    "## Part 2\n",
    "#\n",
    "# build out a corner\n",
    "corner = corners[0]\n",
    "\n",
    "from operator import itemgetter\n",
    "import math \n",
    "\n",
    "#for e in edges[corner]:\n",
    "for e in itemgetter(0,2,4,6)(edges[corner]): # don't look at flipped versions on corner\n",
    "    for c in connections[corner]: # look at the nodes connceted to this corner\n",
    "        for ce in edges[c]: # loop through the nodes edges and find one that matches \n",
    "            if ce == e:\n",
    "                attached_name = c\n",
    "                attached_edge = ce\n",
    "                side = math.floor(edges[c].index(ce)/2)\n",
    "                # 0: top\n",
    "                # 1: right\n",
    "                # 2: bottom\n",
    "                # 3: left\n",
    "                flipped = side % 2 == 1  \n",
    "                print(attached_name, side, attached_edge, flipped)\n"
   ]
  },
  {
   "cell_type": "markdown",
   "metadata": {},
   "source": [
    "```\n",
    "1951 (corner)\n",
    "#.##...##.\n",
    "#.####...#\n",
    ".....#..##\n",
    "#...######\n",
    ".##.#....#\n",
    ".###.#####\n",
    "###.##.##.\n",
    ".###....#.\n",
    "..#.#..#.#\n",
    "#...##.#..\n",
    "\n",
    "Tile 2729:\n",
    "...#.#.#.#\n",
    "####.#....\n",
    "..#.#.....\n",
    "....#..#.#\n",
    ".##..##.#.\n",
    ".#.####...\n",
    "####.#.#..\n",
    "##.####...\n",
    "##..#.##..\n",
    "#.##...##.\n",
    "\n",
    "2311\n",
    "..##.#..#.\n",
    "##..#.....\n",
    "#...##..#.\n",
    "####.#...#\n",
    "##.##.###.\n",
    "##...#.###\n",
    ".#.#.#..##\n",
    "..#....#..\n",
    "###...#.#.\n",
    "..###..###\n",
    "\n",
    "\n",
    "```"
   ]
  },
  {
   "cell_type": "code",
   "execution_count": 52,
   "metadata": {},
   "outputs": [
    {
     "data": {
      "text/plain": [
       "0"
      ]
     },
     "execution_count": 52,
     "metadata": {},
     "output_type": "execute_result"
    }
   ],
   "source": [
    "a = [1,2,3]\n",
    "a.index(2)\n",
    "2 % 2"
   ]
  },
  {
   "cell_type": "code",
   "execution_count": null,
   "metadata": {},
   "outputs": [],
   "source": []
  }
 ],
 "metadata": {
  "kernelspec": {
   "display_name": "Python 3",
   "language": "python",
   "name": "python3"
  },
  "language_info": {
   "codemirror_mode": {
    "name": "ipython",
    "version": 3
   },
   "file_extension": ".py",
   "mimetype": "text/x-python",
   "name": "python",
   "nbconvert_exporter": "python",
   "pygments_lexer": "ipython3",
   "version": "3.8.3"
  }
 },
 "nbformat": 4,
 "nbformat_minor": 4
}
