{
 "cells": [
  {
   "cell_type": "markdown",
   "metadata": {},
   "source": [
    "## Day 1\n",
    "\n",
    "https://adventofcode.com/2020/day/1"
   ]
  },
  {
   "cell_type": "code",
   "execution_count": 11,
   "metadata": {},
   "outputs": [
    {
     "name": "stdout",
     "output_type": "stream",
     "text": [
      "1081 315 624 212481360\n",
      "1081 624 315 212481360\n",
      "315 1081 624 212481360\n",
      "315 624 1081 212481360\n",
      "624 1081 315 212481360\n",
      "624 315 1081 212481360\n"
     ]
    }
   ],
   "source": [
    "def findNum(l1, num):\n",
    "    for x in l1:\n",
    "        if abs(x-num) in l1:\n",
    "            return [x, abs(x-num)]\n",
    "    return [-1,-1]\n",
    "\n",
    "\n",
    "l1 = [ int(x.strip()) for x in open(\"data/day1.txt\").readlines()]\n",
    "\n",
    "# Solution 1\n",
    "# findNum(l1, 2020)\n",
    "\n",
    "\n",
    "# Solution 2\n",
    "for a in l1:\n",
    "    for b in l1:\n",
    "        c = 2020-a-b\n",
    "        if c in l1:\n",
    "            print(a,b, c, a*b*c)"
   ]
  },
  {
   "cell_type": "code",
   "execution_count": null,
   "metadata": {},
   "outputs": [],
   "source": []
  }
 ],
 "metadata": {
  "kernelspec": {
   "display_name": "Python 3",
   "language": "python",
   "name": "python3"
  },
  "language_info": {
   "codemirror_mode": {
    "name": "ipython",
    "version": 3
   },
   "file_extension": ".py",
   "mimetype": "text/x-python",
   "name": "python",
   "nbconvert_exporter": "python",
   "pygments_lexer": "ipython3",
   "version": "3.8.3"
  }
 },
 "nbformat": 4,
 "nbformat_minor": 4
}
