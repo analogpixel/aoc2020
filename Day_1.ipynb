{
 "cells": [
  {
   "cell_type": "markdown",
   "metadata": {},
   "source": [
    "## Day 1\n",
    "\n",
    "https://adventofcode.com/2020/day/1"
   ]
  },
  {
   "cell_type": "code",
   "execution_count": 14,
   "metadata": {},
   "outputs": [
    {
     "name": "stdout",
     "output_type": "stream",
     "text": [
      "[317, 1703]\n",
      "317 1703 539851\n",
      "1703 317 539851\n",
      "1081 315 624 212481360\n",
      "1081 624 315 212481360\n",
      "315 1081 624 212481360\n",
      "315 624 1081 212481360\n",
      "624 1081 315 212481360\n",
      "624 315 1081 212481360\n"
     ]
    }
   ],
   "source": [
    "l1 = [ int(x.strip()) for x in open(\"data/day1.txt\").readlines()]\n",
    "\n",
    "# Solution 1\n",
    "for a in l1:\n",
    "    b = 2020-a\n",
    "    if b in l1:\n",
    "        print(a,b, a*b)\n",
    "            \n",
    "\n",
    "# Solution 2\n",
    "for a in l1:\n",
    "    for b in l1:\n",
    "        c = 2020-a-b\n",
    "        if c in l1:\n",
    "            print(a,b, c, a*b*c)"
   ]
  },
  {
   "cell_type": "markdown",
   "metadata": {},
   "source": []
  }
 ],
 "metadata": {
  "kernelspec": {
   "display_name": "Python 3",
   "language": "python",
   "name": "python3"
  },
  "language_info": {
   "codemirror_mode": {
    "name": "ipython",
    "version": 3
   },
   "file_extension": ".py",
   "mimetype": "text/x-python",
   "name": "python",
   "nbconvert_exporter": "python",
   "pygments_lexer": "ipython3",
   "version": "3.8.3"
  }
 },
 "nbformat": 4,
 "nbformat_minor": 4
}
