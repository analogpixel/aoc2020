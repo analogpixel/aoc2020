{
 "cells": [
  {
   "cell_type": "code",
   "execution_count": 11,
   "metadata": {},
   "outputs": [
    {
     "name": "stdout",
     "output_type": "stream",
     "text": [
      "Get loop size 1\n",
      "Get loops size 2\n",
      "5163354 16740460\n"
     ]
    },
    {
     "data": {
      "text/plain": [
       "(9177528, 9177528)"
      ]
     },
     "execution_count": 11,
     "metadata": {},
     "output_type": "execute_result"
    }
   ],
   "source": [
    "\n",
    "\n",
    "subject_number = 7\n",
    "value = 1\n",
    "\n",
    "# sample data\n",
    "# card_pk = 5764801\n",
    "# door_pk = 17807724\n",
    "\n",
    "# real data\n",
    "card_pk = 8421034\n",
    "door_pk = 15993936\n",
    "\n",
    "# start with the value 1\n",
    "# Then, a number of times called the loop size, perform the following steps\n",
    "  # Set the value to itself multiplied by the subject number.\n",
    "  # Set the value to the remainder after dividing the value by 20201227.\n",
    "\n",
    "\n",
    "def get_loop_size(pk,sn):\n",
    "    ls = 1\n",
    "    v = 1\n",
    "    while True:\n",
    "        v = (v*sn) % 20201227\n",
    "        if v == pk:\n",
    "            return ls\n",
    "        ls+=1\n",
    "        \n",
    "def get_ek(ls, pk):\n",
    "    v = 1\n",
    "    for i in range(0,ls):\n",
    "        v = v * pk\n",
    "        v = v % 20201227\n",
    "    return v\n",
    "\n",
    "print(\"Get loop size 1\")\n",
    "ls1 = get_loop_size_2(card_pk, subject_number)\n",
    "print(\"Get loops size 2\")\n",
    "ls2 = get_loop_size_2(door_pk, subject_number)\n",
    "\n",
    "print(ls1,ls2)\n",
    "ek1 = get_ek(ls1, door_pk)\n",
    "ek2 = get_ek(ls2, card_pk)\n",
    "\n",
    "ek1,ek2"
   ]
  },
  {
   "cell_type": "code",
   "execution_count": null,
   "metadata": {},
   "outputs": [],
   "source": [
    "10 %109\n"
   ]
  },
  {
   "cell_type": "code",
   "execution_count": 3,
   "metadata": {},
   "outputs": [
    {
     "data": {
      "text/plain": [
       "7"
      ]
     },
     "execution_count": 3,
     "metadata": {},
     "output_type": "execute_result"
    }
   ],
   "source": [
    "7 % 20201227"
   ]
  },
  {
   "cell_type": "code",
   "execution_count": null,
   "metadata": {},
   "outputs": [],
   "source": []
  }
 ],
 "metadata": {
  "kernelspec": {
   "display_name": "Python 3",
   "language": "python",
   "name": "python3"
  },
  "language_info": {
   "codemirror_mode": {
    "name": "ipython",
    "version": 3
   },
   "file_extension": ".py",
   "mimetype": "text/x-python",
   "name": "python",
   "nbconvert_exporter": "python",
   "pygments_lexer": "ipython3",
   "version": "3.8.3"
  }
 },
 "nbformat": 4,
 "nbformat_minor": 4
}
