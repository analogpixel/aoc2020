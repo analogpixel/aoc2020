{
 "cells": [
  {
   "cell_type": "markdown",
   "metadata": {},
   "source": [
    "# Day 3\n",
    "\n",
    "https://adventofcode.com/2020/day/3"
   ]
  },
  {
   "cell_type": "code",
   "execution_count": 21,
   "metadata": {},
   "outputs": [
    {
     "name": "stdout",
     "output_type": "stream",
     "text": [
      "[232, 90]\n",
      "3952291680\n"
     ]
    }
   ],
   "source": [
    "l1 = [ x.strip() for x in open(\"data/day3.txt\").readlines()]\n",
    "sl1 = [ x.strip() for x in open(\"data/day3_sample_1.txt\").readlines()]\n",
    "\n",
    "myList = l1\n",
    "start=[0,0]\n",
    "pattern=[3,1]\n",
    "pos=[0,0]\n",
    "line_len = len(myList[0])\n",
    "\n",
    "def countObjects(myList, pos, pattern):\n",
    "    tree=0\n",
    "    empty=0\n",
    "    while pos[1] < len(myList)-1:\n",
    "        pos = [ sum(x) for x in zip(pattern, pos) ]\n",
    "        square = myList[ pos[1] ][ pos[0] % line_len ]\n",
    "        if square == \".\":\n",
    "            empty += 1\n",
    "        else:\n",
    "            tree += 1\n",
    "\n",
    "    return [tree,empty]\n",
    "\n",
    "## Part 1\n",
    "print(countObjects(myList, pos, pattern))\n",
    "\n",
    "## Part 2\n",
    "t = 1\n",
    "for pattern in [ [1,1], [3,1], [5,1], [7,1], [1,2]]:\n",
    "    t = t * countObjects(myList, pos, pattern)[0]\n",
    "print(t)"
   ]
  }
 ],
 "metadata": {
  "kernelspec": {
   "display_name": "Python 3",
   "language": "python",
   "name": "python3"
  },
  "language_info": {
   "codemirror_mode": {
    "name": "ipython",
    "version": 3
   },
   "file_extension": ".py",
   "mimetype": "text/x-python",
   "name": "python",
   "nbconvert_exporter": "python",
   "pygments_lexer": "ipython3",
   "version": "3.8.3"
  }
 },
 "nbformat": 4,
 "nbformat_minor": 4
}
