{
 "cells": [
  {
   "cell_type": "code",
   "execution_count": null,
   "metadata": {},
   "outputs": [],
   "source": [
    "s_input_1 = \"\"\"939\n",
    "7,13,x,x,59,x,31,19\"\"\"\n",
    "\n",
    "input_1 = \"\"\"1006697\n",
    "13,x,x,41,x,x,x,x,x,x,x,x,x,641,x,x,x,x,x,x,x,x,x,x,x,19,x,x,x,x,17,x,x,x,x,x,x,x,x,x,x,x,29,x,661,x,x,x,x,x,37,x,x,x,x,x,x,x,x,x,x,x,x,x,x,x,x,23\"\"\"\n",
    "\n",
    "[puz_time, puz_input] = input_1.split(\"\\n\")\n",
    "puz_input = puz_input.strip().split(',')\n",
    "puz_time = int(puz_time)"
   ]
  },
  {
   "cell_type": "code",
   "execution_count": null,
   "metadata": {},
   "outputs": [],
   "source": [
    "\n",
    "start = puz_time\n",
    "notFound = True\n",
    "while notFound:\n",
    "    for bus in puz_input:\n",
    "        if bus == 'x':\n",
    "            continue\n",
    "        if start % int(bus) == 0:\n",
    "            print(\"bus {} is valid\".format(bus))\n",
    "            time_wait = start - puz_time \n",
    "            ans = time_wait * int(bus)\n",
    "            print(\"ans:\", ans)\n",
    "            notFound = False\n",
    "            break\n",
    "    start+=1\n",
    "        "
   ]
  },
  {
   "cell_type": "markdown",
   "metadata": {},
   "source": [
    "What I did to get part 2:\n",
    "\n",
    "I found what the length between cycles between 13 and 41 were, \n",
    "then I found out the length between that number and 641, and then between\n",
    "that number and 19... etc... I kept getting a bigger cycle nubmer each time. until\n",
    "it was big enough to acutally find the answer.\n",
    "\n",
    "\n",
    "## Part 2"
   ]
  },
  {
   "cell_type": "code",
   "execution_count": 1,
   "metadata": {},
   "outputs": [
    {
     "name": "stdout",
     "output_type": "stream",
     "text": [
      "[[661, 44], [641, 13], [41, 3], [37, 50], [29, 42], [23, 67], [19, 25], [17, 30], [13, 0]]\n",
      "Looking for solution\n",
      "ans: 800177252346225\n"
     ]
    }
   ],
   "source": [
    "#l = [67,7,59,61]\n",
    "#l = [67,1,7,59,61]\n",
    "#l = [1789,37,47,1889]\n",
    "\n",
    "l = \"13,x,x,41,x,x,x,x,x,x,x,x,x,641,x,x,x,x,x,x,x,x,x,x,x,19,x,x,x,x,17,x,x,x,x,x,x,x,x,x,x,x,29,x,661,x,x,x,x,x,37,x,x,x,x,x,x,x,x,x,x,x,x,x,x,x,x,23\"\n",
    "l = l.replace('x','1')\n",
    "l = [ int(x) for x in l.split(',') ]\n",
    "\n",
    "g = []\n",
    "for idx,val in enumerate(l):\n",
    "    if val != 1:\n",
    "        g.append( [val,idx] )\n",
    "\n",
    "g = sorted( g, key=lambda x: x[0], reverse=True)\n",
    "print(g)\n",
    "\n",
    "#c= 200000000017389\n",
    "#c = 1716585\n",
    "#c = 11966175\n",
    "c = 102845873\n",
    "\n",
    "#incVal=341653\n",
    "#incVal=6491407\n",
    "incVal=110353919\n",
    "\n",
    "notFound = True\n",
    "solution=False\n",
    "last= 0\n",
    "print(\"Looking for solution\")\n",
    "while notFound:\n",
    "    \n",
    "    \"\"\"\n",
    "    ## Keep on adding more and more to get bigger loop sizes \n",
    "    if ( c % 13 == 0 and (c+3) % 41 == 0 and (c+13)%641 ==0 and (c+25) % 19 == 0 and (c+30) % 17 == 0):\n",
    "        print(\"outer loop:\",c,  c - last)\n",
    "        last = c\n",
    "    \"\"\"\n",
    "    \n",
    "    solution=True\n",
    "    \n",
    "    for x in g:\n",
    "        if (c + x[1]) % x[0] != 0:\n",
    "            solution=False\n",
    "            break\n",
    "    if solution:\n",
    "        print(\"ans:\", c)\n",
    "        notFound = False\n",
    "        break  \n",
    "    \n",
    "    c += incVal\n",
    "    \n",
    "    \n",
    "# 779210"
   ]
  }
 ],
 "metadata": {
  "kernelspec": {
   "display_name": "Python 3",
   "language": "python",
   "name": "python3"
  },
  "language_info": {
   "codemirror_mode": {
    "name": "ipython",
    "version": 3
   },
   "file_extension": ".py",
   "mimetype": "text/x-python",
   "name": "python",
   "nbconvert_exporter": "python",
   "pygments_lexer": "ipython3",
   "version": "3.8.3"
  }
 },
 "nbformat": 4,
 "nbformat_minor": 4
}
