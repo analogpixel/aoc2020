{
 "cells": [
  {
   "cell_type": "markdown",
   "metadata": {},
   "source": [
    "# Day 18\n",
    "\n",
    "# Part 1\n"
   ]
  },
  {
   "cell_type": "code",
   "execution_count": null,
   "metadata": {},
   "outputs": [],
   "source": []
  },
  {
   "cell_type": "code",
   "execution_count": 7,
   "metadata": {},
   "outputs": [
    {
     "name": "stdout",
     "output_type": "stream",
     "text": [
      "14006719520523\n"
     ]
    }
   ],
   "source": [
    "s_input_1 = \"2 * 3 + (4 * 5)\" # 26\n",
    "s_input_2 = \"((2 + 4 * 9) * (6 + 9 * 8 + 6) + 6) + 2 + 4 * 2\" #13632\n",
    "s_input_3 = \"5 * 9 * (7 * 3 * 3 + 9 * 3 + (8 + 6 * 4))\" # 12240\n",
    "\n",
    "puz_input = list(s_input_3.replace(\" \", \"\"))\n",
    "\n",
    "def parse_it(x):\n",
    "    op = \"\"\n",
    "    total = False\n",
    "    while len(x) > 0:\n",
    "        l = x.pop(0)\n",
    "        if l == \")\":\n",
    "            return [x,total]\n",
    "        elif l == \"(\":\n",
    "            [x,n]= parse_it(x)\n",
    "            if total:\n",
    "                total = eval(\"{} {} {}\".format(total, op, n))\n",
    "            else:\n",
    "                total = int(n)\n",
    "        if l in [\"+\", \"-\", \"*\", \"/\"]:\n",
    "            op = l\n",
    "        if l in [\"1\",\"2\",\"3\",\"4\",\"5\",\"6\",\"7\",\"8\",\"9\",\"0\"]:\n",
    "            if total:\n",
    "                total = eval(\"{} {} {}\".format(total, op, l))\n",
    "            else:\n",
    "                total = int(l)\n",
    "                \n",
    "    return total\n",
    "\n",
    "t = 0\n",
    "input_file=\"data/day18.txt\"\n",
    "l1 = [ x.strip() for x in open(input_file).readlines()]\n",
    "for line in l1:\n",
    "    puz_input = list(line.replace(\" \", \"\"))\n",
    "    t += parse_it(puz_input)\n",
    "\n",
    "print(t)"
   ]
  },
  {
   "cell_type": "code",
   "execution_count": 8,
   "metadata": {},
   "outputs": [],
   "source": [
    "x = eval(\"1 + 1\")"
   ]
  },
  {
   "cell_type": "code",
   "execution_count": 10,
   "metadata": {},
   "outputs": [
    {
     "data": {
      "text/plain": [
       "2"
      ]
     },
     "execution_count": 10,
     "metadata": {},
     "output_type": "execute_result"
    }
   ],
   "source": [
    "x"
   ]
  },
  {
   "cell_type": "code",
   "execution_count": 11,
   "metadata": {},
   "outputs": [
    {
     "data": {
      "text/plain": [
       "['5 ', ' 9 ', ' ', '7 ', ' 3 ', ' 3 + 9 ', ' 3 + ', '8 + 6 ', ' 4))']"
      ]
     },
     "execution_count": 11,
     "metadata": {},
     "output_type": "execute_result"
    }
   ],
   "source": [
    "import re\n",
    "\n",
    "# move through looking for each +, and then creating a new list with just mult. after \n",
    "a = \"5 * 9 * (7 * 3 * 3 + 9 * 3 + (8 + 6 * 4))\"\n",
    "\n",
    "# find the next + before the next (\n",
    "# add left + right\n",
    "\n",
    "\"\"\"\n",
    "[5, * , 9, *]\n",
    "  [7, *, 3, *, 12, * , 3+ \n",
    "   [14, * , 4]\n",
    "\"\"\"\n",
    "re.split(\"[*(]\", a)\n"
   ]
  },
  {
   "cell_type": "markdown",
   "metadata": {},
   "source": [
    "# Part 2\n",
    "\n",
    "https://www.youtube.com/watch?v=HJOnJU77EUs\n",
    "https://en.wikipedia.org/wiki/Shunting-yard_algorithm\n",
    "https://stackoverflow.com/a/47717\n"
   ]
  },
  {
   "cell_type": "code",
   "execution_count": 102,
   "metadata": {},
   "outputs": [
    {
     "name": "stdout",
     "output_type": "stream",
     "text": [
      "545115449981968\n"
     ]
    }
   ],
   "source": [
    "s_input_4 = \"((2 + 4 * 9) * (6 + 9 * 8 + 6) + 6) + 2 + 4 * 2\" # 23340\n",
    "s_input_5 = \"(5*4+3)+1\" # 36\n",
    "s_input_6 = \"5 + (8 * 3 + 9 + 3 * 4 * 3)\" # 1445\n",
    "s_input_7 = \"1 + (2 * 3) + (4 * (5 + 6))\" # 51\n",
    "s_input_8 = \"5 * 9 * (7 * 3 * 3 + 9 * 3 + (8 + 6 * 4))\" # 669060\n",
    "s_input_9 = \"1 + 2 * 3 + 4 * 5 + 6\" # 231\n",
    "\n",
    "puz_input = list(s_input_4.replace(\" \", \"\"))\n",
    "\n",
    "def parse(t):\n",
    "    precedence = {\"+\": 3, \"*\": 2, \"(\": 0}\n",
    "    n = []\n",
    "    ops = []\n",
    "    while len(t) > 0:\n",
    "        x = t.pop(0)\n",
    "        if x == '(':\n",
    "            ops.append(x)\n",
    "        elif x == ')':\n",
    "            while True:\n",
    "                z = ops.pop()\n",
    "                if z == '(':\n",
    "                    break\n",
    "                else:\n",
    "                    n.append(z)\n",
    "        elif x in ['*', '+']:\n",
    "            while True:\n",
    "                # if the precedence of x is > precedence of top element in ops\n",
    "                # you can put it in ops\n",
    "                if (len(ops) == 0) or (len(ops) > 0 and precedence[x] > precedence[ ops[-1] ]):\n",
    "                    ops.append(x)\n",
    "                    break\n",
    "                # otherwise you need to remove elements until you can \n",
    "                else:\n",
    "                    j = ops.pop()\n",
    "                    n.append(j)\n",
    "                \n",
    "        else:\n",
    "            n.append( int(x))\n",
    "        #print(x,n, ops)\n",
    "    while len(ops) > 0:\n",
    "        x = ops.pop()\n",
    "        n.append(x)\n",
    "    return n\n",
    "\n",
    "\n",
    "def eval_list(l):\n",
    "    n = []\n",
    "    t = 0\n",
    "    while len(l) > 0:\n",
    "        x = l.pop(0)\n",
    "        if x == '*':\n",
    "            a = n.pop()\n",
    "            b = n.pop()\n",
    "            n.append(a*b)\n",
    "        elif x == \"+\":\n",
    "            a = n.pop()\n",
    "            b = n.pop()\n",
    "            n.append(a+b)\n",
    "        else:\n",
    "            n.append( int(x) )\n",
    "        #print(n,t,x)\n",
    "    return n[0]\n",
    "\n",
    "\n",
    "t=0\n",
    "input_file=\"data/day18.txt\"\n",
    "l1 = [ x.strip() for x in open(input_file).readlines()]\n",
    "for line in l1:\n",
    "    puz_input = list(line.replace(\" \", \"\"))\n",
    "    t += eval_list(parse(puz_input))\n",
    "\n",
    "   \n",
    "# 734549697845469 is too high\n",
    "# 720542978324946 is too high\n",
    "print(t)\n"
   ]
  },
  {
   "cell_type": "code",
   "execution_count": 40,
   "metadata": {},
   "outputs": [
    {
     "name": "stdout",
     "output_type": "stream",
     "text": [
      "Help on method_descriptor:\n",
      "\n",
      "append(self, object, /)\n",
      "    Append object to the end of the list.\n",
      "\n"
     ]
    }
   ],
   "source": [
    "help(list.append)"
   ]
  },
  {
   "cell_type": "code",
   "execution_count": 79,
   "metadata": {},
   "outputs": [
    {
     "data": {
      "text/plain": [
       "231"
      ]
     },
     "execution_count": 79,
     "metadata": {},
     "output_type": "execute_result"
    }
   ],
   "source": [
    "a = [1,2]\n",
    "a.insert(0, 5)\n",
    "a\n",
    "3*7*11"
   ]
  },
  {
   "cell_type": "code",
   "execution_count": null,
   "metadata": {},
   "outputs": [],
   "source": []
  }
 ],
 "metadata": {
  "kernelspec": {
   "display_name": "Python 3.8 (XPython)",
   "language": "python",
   "name": "xpython"
  },
  "language_info": {
   "file_extension": ".py",
   "mimetype": "text/x-python",
   "name": "python",
   "version": "3.8.5"
  }
 },
 "nbformat": 4,
 "nbformat_minor": 4
}
